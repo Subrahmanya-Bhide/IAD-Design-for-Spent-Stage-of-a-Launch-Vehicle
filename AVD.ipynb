{
  "nbformat": 4,
  "nbformat_minor": 0,
  "metadata": {
    "colab": {
      "name": "AVD_real_first_iteration.ipynb",
      "provenance": [],
      "collapsed_sections": []
    },
    "kernelspec": {
      "name": "python3",
      "display_name": "Python 3"
    },
    "language_info": {
      "name": "python"
    }
  },
  "cells": [
    {
      "cell_type": "code",
      "metadata": {
        "colab": {
          "base_uri": "https://localhost:8080/",
          "height": 296
        },
        "id": "1imfZFmValTR",
        "outputId": "973a6a51-d775-4552-88ba-9c8cdd4861b3"
      },
      "source": [
        "import numpy as np\n",
        "import matplotlib.pyplot as plt\n",
        "\n",
        "T0 =  2.9\n",
        "t0 =  7\n",
        "M = 30000 + 300\n",
        "L = 20.3\n",
        "l = 15\n",
        "k = (12*T0*l)/(M*L*L)\n",
        "\n",
        "def Tau(t,T0):\n",
        "    return T0*(1 - (t/t0))\n",
        "\n",
        "T = []\n",
        "t = np.linspace(0,2*t0,10*t0)\n",
        "for i in range(len(t)):\n",
        "    T.append(Tau(t[i],T0))\n",
        "\n",
        "alpha = []\n",
        "omega = [0]\n",
        "theta = [-90]\n",
        "for i in range(len(t)):\n",
        "    alpha.append(k*(1 - (t[i]/t0)))\n",
        "\n",
        "\n",
        "for i in range(1,len(t)-1):    \n",
        "    omega.append(omega[i-1] + (alpha[i-1] + alpha[i+1])/(2*0.1))\n",
        "\n",
        "\n",
        "for i in range(1,len(t)-2):       \n",
        "    theta.append((theta[i-1]*3.14/180 + (omega[i-1] + omega[i+1])/(2*0.1))*180/3.14)\n",
        "\n",
        "#plt.plot(alpha,'-r')\n",
        "#plt.plot(t[0:10*t0 -1],omega,'-b')\n",
        "#plt.plot(t[0:10*t0 -2],theta,'-g')\n",
        "plt.plot(t[0:10*t0 ],T,'-k')\n",
        "plt.ylabel('Thrust (N)')\n",
        "plt.xlabel('time (s)')\n",
        "print(theta[-1])"
      ],
      "execution_count": null,
      "outputs": [
        {
          "output_type": "stream",
          "name": "stdout",
          "text": [
            "91.7420412449963\n"
          ]
        },
        {
          "output_type": "display_data",
          "data": {
            "image/png": "[encoded data removed]",
            "text/plain": [
              "<Figure size 432x288 with 1 Axes>"
            ]
          },
          "metadata": {
            "needs_background": "light"
          }
        }
      ]
    },
    {
      "cell_type": "code",
      "metadata": {
        "colab": {
          "base_uri": "https://localhost:8080/",
          "height": 298
        },
        "id": "tZhKdm5s17ht",
        "outputId": "32a6fcc1-2230-4b44-831f-262be491da33"
      },
      "source": [
        "import numpy as np\n",
        "import matplotlib.pyplot as plt\n",
        "V = 1824.1\n",
        "theta = 60*3.14/180\n",
        "h0 = 68.5*1000\n",
        "t0 = (V*np.sin(theta) + np.sqrt(V**2*(np.sin(theta))**2 + 2*9.81*h0))/(9.81)\n",
        "\n",
        "R = V*np.cos(theta)*t0\n",
        "\n",
        "t = np.linspace(0,t0,2000)\n",
        "h = []\n",
        "r = []\n",
        "for i in range(len(t)):\n",
        "    h.append(V*np.sin(theta)*t[i]  - 0.5*9.81*t[i]*t[i])\n",
        "    r.append(V*np.cos(theta)*t[i])\n",
        "\n",
        "print(t0)\n",
        "plt.plot(t,h)\n",
        "plt.plot(t,r)\n",
        "\n",
        "\n",
        "\n"
      ],
      "execution_count": null,
      "outputs": [
        {
          "output_type": "stream",
          "name": "stdout",
          "text": [
            "360.68297613318055\n"
          ]
        },
        {
          "output_type": "execute_result",
          "data": {
            "text/plain": [
              "[<matplotlib.lines.Line2D at 0x7fa0408d33d0>]"
            ]
          },
          "metadata": {},
          "execution_count": 3
        },
        {
          "output_type": "display_data",
          "data": {
            "image/png": "[encoded data removed]",
            "text/plain": [
              "<Figure size 432x288 with 1 Axes>"
            ]
          },
          "metadata": {
            "needs_background": "light"
          }
        }
      ]
    },
    {
      "cell_type": "code",
      "metadata": {
        "colab": {
          "base_uri": "https://localhost:8080/",
          "height": 296
        },
        "id": "gN5D1Ga6sGwC",
        "outputId": "80796735-30a1-49bb-986d-6b0a7a0bf51b"
      },
      "source": [
        "from scipy.integrate import odeint\n",
        "import numpy as np\n",
        "from numpy import sin,cos,tan \n",
        "import matplotlib.pyplot as plt\n",
        "\n",
        "m = 20000\n",
        "omegaE  = 7.292e-5\n",
        "muE = 3.98600e14\n",
        "re = 6378e3\n",
        "Sref = 113.1\n",
        "'''\n",
        "def Temp(r):\n",
        "    h = (r - re)/1000;\n",
        "    ans = 0;\n",
        "    if h > 0 and h <= 10000:\n",
        "        ans = 20 - 7.7*h + 273.15\n",
        "    elif h > 10000 and h <= 20000:\n",
        "        ans = -57 + 273.15\n",
        "    elif h > 20000 and h <= 47000:\n",
        "        ans = 2.11*h - 47 + 273.15\n",
        "    elif h > 47000 and h <= 57000:\n",
        "        ans = 273.15\n",
        "    else:\n",
        "        ans = -3.214*h - 173.6 + 273.15\n",
        "    return ans\n",
        "'''\n",
        "def Temp(r):\n",
        "    h = r - re;\n",
        "    ans = 0;\n",
        "    if h > 25000:\n",
        "        ans = 141.94 + 0.0029*h\n",
        "    elif h > 11000 and h <= 25000:\n",
        "        ans = 216.69\n",
        "    else:\n",
        "        ans = 288.19 - 0.00649*h\n",
        "    return ans\n",
        "\n",
        "def Cd(M):\n",
        "    a = 96.23182049;\n",
        "    b = -84.08353075;\n",
        "    c = 36.11469423;\n",
        "    d = -7.64491471;\n",
        "    e = 0.63873741;\n",
        "    f = -42.48672719;\n",
        "    return a*M +b*M**2 + c*M**3 + d*M**4 + e*M**5 + f\n",
        "\n",
        "def rho(r):\n",
        "    return 1.225*np.exp(-(r-re)/9296)\n",
        "\n",
        "\n",
        "def D(r,v):\n",
        "    M = v/(np.sqrt(1.44*287*Temp(r)))\n",
        "    CD = Cd(M) \n",
        "    return CD*Sref*0.5*rho(r)*v**2 \n",
        "\n",
        "\n",
        "def pend(y, t, m, omegaE, muE):\n",
        "    r,zeta,phi,gamma,v,zai = y\n",
        "    dydt = [v*sin(gamma),\n",
        "            v*cos(gamma)*cos(zai)/(r*cos(phi)),\n",
        "            v*cos(gamma)*cos(zai)/r,\n",
        "            (v/r - muE/(r**2*v))*cos(gamma) + cos(phi)*(2*omegaE*cos(zai) + (omegaE**2*r/v)*(cos(phi)*cos(gamma)) + sin(phi)*sin(gamma)*sin(zai)),\n",
        "            -muE*sin(gamma)/r**2 - D(r,v)/m + omegaE**2*r*cos(phi)*(cos(phi)*sin(gamma) - sin(phi)*cos(gamma)*sin(zai)) ,\n",
        "            -(v/r)*tan(phi)*cos(gamma)*cos(zai) + 2*omegaE*cos(phi)*tan(gamma)*sin(zai) - omegaE**2*r*sin(phi)*cos(phi)*cos(zai)/(v*cos(gamma)) - 2*omegaE*cos(phi)\n",
        "            ]\n",
        "    return dydt\n",
        "\n",
        "params = (1)\n",
        "t = np.linspace(0,500,1000)\n",
        "sol = odeint(pend,[90000+re,3.14/2,3.14/2,-3.14/4,1300,3.14/2 -3.14*5/6] , t, args=(m,omegaE,muE))\n",
        "\n",
        "I = 0\n",
        "for i in range(len(t)):\n",
        "    if sol[i,0] < re :\n",
        "        I = i\n",
        "        break\n",
        "\n",
        "plt.plot(sol[0:I,4],(sol[0:I,0]-re)/1000)\n",
        "#plt.plot(t[0:I],(sol[0:I,0]- re)/1000)\n",
        "#plt.plot(t[0:I],sol[0:I,4])\n",
        "#plt.plot(t[0:I],sol[0:I,4])\n",
        "\n",
        "plt.ylabel('Altitude (km)')\n",
        "plt.xlabel('Velocity (m/s)')\n",
        "\n"
      ],
      "execution_count": null,
      "outputs": [
        {
          "output_type": "execute_result",
          "data": {
            "text/plain": [
              "Text(0.5, 0, 'Velocity (m/s)')"
            ]
          },
          "metadata": {},
          "execution_count": 1
        },
        {
          "output_type": "display_data",
          "data": {
            "image/png": "[encoded data removed]",
            "text/plain": [
              "<Figure size 432x288 with 1 Axes>"
            ]
          },
          "metadata": {
            "needs_background": "light"
          }
        }
      ]
    }
  ]
}